{
 "cells": [
  {
   "cell_type": "markdown",
   "metadata": {},
   "source": [
    "# GCP Read Write Testing"
   ]
  },
  {
   "cell_type": "markdown",
   "metadata": {},
   "source": [
    "## Imports"
   ]
  },
  {
   "cell_type": "markdown",
   "metadata": {},
   "source": [
    "### *Library imports*"
   ]
  },
  {
   "cell_type": "code",
   "execution_count": 1,
   "metadata": {},
   "outputs": [],
   "source": [
    "from google.cloud import storage\n",
    "\n",
    "import os\n",
    "import pandas as pd\n",
    "import sys"
   ]
  },
  {
   "cell_type": "markdown",
   "metadata": {},
   "source": [
    "### *Custom function imports from src*"
   ]
  },
  {
   "cell_type": "code",
   "execution_count": 2,
   "metadata": {},
   "outputs": [],
   "source": [
    "sys.path.append(os.path.abspath('../src'))\n",
    "\n",
    "from utils import gcp_read_csv, gcp_write_csv"
   ]
  },
  {
   "cell_type": "markdown",
   "metadata": {},
   "source": [
    "## Other Prep"
   ]
  },
  {
   "cell_type": "markdown",
   "metadata": {},
   "source": [
    "I created a new bucket (gcp_read_write_testing) in the Data Science project (ID: gamebeast-data-science) of the gamebeast.gg org.  I placed stineman_siblings.csv in this bucket."
   ]
  },
  {
   "cell_type": "markdown",
   "metadata": {},
   "source": [
    "## (1) astineman@gamebeast.gg"
   ]
  },
  {
   "cell_type": "markdown",
   "metadata": {},
   "source": [
    "### Authentication"
   ]
  },
  {
   "cell_type": "markdown",
   "metadata": {},
   "source": [
    "Running the following in cmd/bash to authenticate BEFORE executing any of the reads/writes:\n",
    "\n",
    "```gcloud auth application-default login```\n",
    "\n",
    "Above is dependent on first installing [Google Cloud CLI tooling](https://cloud.google.com/sdk/docs/install)."
   ]
  },
  {
   "cell_type": "markdown",
   "metadata": {},
   "source": [
    "Authenticating as astineman@gamebeast.gg."
   ]
  },
  {
   "cell_type": "code",
   "execution_count": 3,
   "metadata": {},
   "outputs": [],
   "source": [
    "client = storage.Client()"
   ]
  },
  {
   "cell_type": "markdown",
   "metadata": {},
   "source": [
    "After authentication, now can initialize the google-cloud-storage client once for all tests."
   ]
  },
  {
   "cell_type": "markdown",
   "metadata": {},
   "source": [
    "### Read Test"
   ]
  },
  {
   "cell_type": "code",
   "execution_count": 4,
   "metadata": {},
   "outputs": [],
   "source": [
    "stineman_siblings = gcp_read_csv(gcp_client_obj = client,\n",
    "                                 bucket_name = 'gcp_read_write_testing',\n",
    "                                 csv_file_name = 'stineman_siblings.csv')"
   ]
  },
  {
   "cell_type": "code",
   "execution_count": 5,
   "metadata": {},
   "outputs": [
    {
     "data": {
      "text/html": [
       "<div>\n",
       "<style scoped>\n",
       "    .dataframe tbody tr th:only-of-type {\n",
       "        vertical-align: middle;\n",
       "    }\n",
       "\n",
       "    .dataframe tbody tr th {\n",
       "        vertical-align: top;\n",
       "    }\n",
       "\n",
       "    .dataframe thead th {\n",
       "        text-align: right;\n",
       "    }\n",
       "</style>\n",
       "<table border=\"1\" class=\"dataframe\">\n",
       "  <thead>\n",
       "    <tr style=\"text-align: right;\">\n",
       "      <th></th>\n",
       "      <th>name</th>\n",
       "      <th>birthdate</th>\n",
       "      <th>height_inches</th>\n",
       "    </tr>\n",
       "  </thead>\n",
       "  <tbody>\n",
       "    <tr>\n",
       "      <th>0</th>\n",
       "      <td>Alexandra</td>\n",
       "      <td>5/12/2011</td>\n",
       "      <td>68.00</td>\n",
       "    </tr>\n",
       "    <tr>\n",
       "      <th>1</th>\n",
       "      <td>Nathan</td>\n",
       "      <td>3/20/2009</td>\n",
       "      <td>71.50</td>\n",
       "    </tr>\n",
       "    <tr>\n",
       "      <th>2</th>\n",
       "      <td>Sarah</td>\n",
       "      <td>4/8/2006</td>\n",
       "      <td>71.00</td>\n",
       "    </tr>\n",
       "    <tr>\n",
       "      <th>3</th>\n",
       "      <td>Nicholas</td>\n",
       "      <td>8/27/2000</td>\n",
       "      <td>74.00</td>\n",
       "    </tr>\n",
       "    <tr>\n",
       "      <th>4</th>\n",
       "      <td>Andrew</td>\n",
       "      <td>10/21/1997</td>\n",
       "      <td>76.75</td>\n",
       "    </tr>\n",
       "  </tbody>\n",
       "</table>\n",
       "</div>"
      ],
      "text/plain": [
       "        name   birthdate  height_inches\n",
       "0  Alexandra   5/12/2011          68.00\n",
       "1     Nathan   3/20/2009          71.50\n",
       "2      Sarah    4/8/2006          71.00\n",
       "3   Nicholas   8/27/2000          74.00\n",
       "4     Andrew  10/21/1997          76.75"
      ]
     },
     "execution_count": 5,
     "metadata": {},
     "output_type": "execute_result"
    }
   ],
   "source": [
    "stineman_siblings"
   ]
  },
  {
   "cell_type": "markdown",
   "metadata": {},
   "source": [
    "Import successful!"
   ]
  },
  {
   "cell_type": "markdown",
   "metadata": {},
   "source": [
    "### Write Test"
   ]
  },
  {
   "cell_type": "code",
   "execution_count": 6,
   "metadata": {},
   "outputs": [
    {
     "name": "stdout",
     "output_type": "stream",
     "text": [
      "Write complete.\n"
     ]
    }
   ],
   "source": [
    "gcp_write_csv(gcp_client_obj = client,\n",
    "              dataframe = stineman_siblings,\n",
    "              bucket_name = 'gcp_read_write_testing',\n",
    "              csv_file_name = 'stineman_siblings_gamebeast.csv')"
   ]
  },
  {
   "cell_type": "markdown",
   "metadata": {},
   "source": [
    "### Overwrite Test"
   ]
  },
  {
   "cell_type": "code",
   "execution_count": 8,
   "metadata": {},
   "outputs": [
    {
     "name": "stdout",
     "output_type": "stream",
     "text": [
      "Write complete.\n"
     ]
    }
   ],
   "source": [
    "gcp_write_csv(gcp_client_obj = client,\n",
    "              dataframe = stineman_siblings,\n",
    "              bucket_name = 'gcp_read_write_testing',\n",
    "              csv_file_name = 'stineman_siblings_gamebeast.csv')"
   ]
  },
  {
   "cell_type": "markdown",
   "metadata": {},
   "source": [
    "Because our the gcp_read_write_testing bucket has versionioning enabled, this action (writing identical file name to bucket) makes the existing version noncurrent and this written file current."
   ]
  },
  {
   "cell_type": "markdown",
   "metadata": {},
   "source": [
    "## (2) andrewtstineman@gmail.com"
   ]
  },
  {
   "cell_type": "markdown",
   "metadata": {},
   "source": [
    "Why this user?\n",
    "\n",
    "astineman@gamebeast.gg has tons of permissions by virtue of being the Owner of the overarching project.  andrewtstineman@gmail.com allows us to experiment with what happens when permissions are missing."
   ]
  },
  {
   "cell_type": "markdown",
   "metadata": {},
   "source": [
    "### Authentication"
   ]
  },
  {
   "cell_type": "markdown",
   "metadata": {},
   "source": [
    "Running the following in cmd/bash to remove the astineman@gamebeast.gg credentials:\n",
    "\n",
    "```gcloud auth application-default revoke```"
   ]
  },
  {
   "cell_type": "markdown",
   "metadata": {},
   "source": [
    "Now running the following in cmd/bash to authenticate as andrewtstineman@gmail.com BEFORE executing any of the reads/writes:\n",
    "\n",
    "```gcloud auth application-default login```"
   ]
  },
  {
   "cell_type": "markdown",
   "metadata": {},
   "source": [
    "Succeeded, but WARNING has appeared:\n",
    "\n",
    "*Cannot add the project \"gamebeast-data-science\" to ADC as the quota project because the account in ADC does not have the \"serviceusage.services.use\" permission on this project. You might receive a \"quota_exceeded\" or \"API not enabled\" error. Run $ gcloud auth application-default set-quota-project to add a quota project.*"
   ]
  },
  {
   "cell_type": "markdown",
   "metadata": {},
   "source": [
    "Response:\n",
    "\n",
    "1. Navigated to the IAM service for the Data Science project, then added an \"Allow\" access for andrewtstineman@gmail.com with the \"Service Usage Consumer\" role\n",
    "2. Run ```gcloud auth application-default revoke``` to remove andrewtstineman@gmail.com credentials\n",
    "3. Run ```gcloud auth application-default login``` to again attempt to authenticate as andrewtstineman@gmail.com"
   ]
  },
  {
   "cell_type": "markdown",
   "metadata": {},
   "source": [
    "Success!  I am now authenticated as andrewtstineman@gmail.com and gamebeast-data-science is appearing as the billing project."
   ]
  },
  {
   "cell_type": "code",
   "execution_count": 9,
   "metadata": {},
   "outputs": [],
   "source": [
    "client = storage.Client()"
   ]
  },
  {
   "cell_type": "markdown",
   "metadata": {},
   "source": [
    "After authentication, now can initialize the google-cloud-storage client once for all tests."
   ]
  },
  {
   "cell_type": "markdown",
   "metadata": {},
   "source": [
    "### Read Test"
   ]
  },
  {
   "cell_type": "code",
   "execution_count": 10,
   "metadata": {},
   "outputs": [
    {
     "ename": "Forbidden",
     "evalue": "403 GET https://storage.googleapis.com/download/storage/v1/b/gcp_read_write_testing/o/stineman_siblings.csv?alt=media: andrewtstineman@gmail.com does not have storage.objects.get access to the Google Cloud Storage object. Permission &#39;storage.objects.get&#39; denied on resource (or it may not exist).: ('Request failed with status code', 403, 'Expected one of', <HTTPStatus.OK: 200>, <HTTPStatus.PARTIAL_CONTENT: 206>)",
     "output_type": "error",
     "traceback": [
      "\u001b[31m---------------------------------------------------------------------------\u001b[39m",
      "\u001b[31mInvalidResponse\u001b[39m                           Traceback (most recent call last)",
      "\u001b[36mFile \u001b[39m\u001b[32mc:\\Users\\andre\\miniconda3\\envs\\gcp_read_write_testing\\Lib\\site-packages\\google\\cloud\\storage\\blob.py:4341\u001b[39m, in \u001b[36mBlob._prep_and_do_download\u001b[39m\u001b[34m(self, file_obj, client, start, end, raw_download, if_etag_match, if_etag_not_match, if_generation_match, if_generation_not_match, if_metageneration_match, if_metageneration_not_match, timeout, checksum, retry, command)\u001b[39m\n\u001b[32m   4340\u001b[39m \u001b[38;5;28;01mtry\u001b[39;00m:\n\u001b[32m-> \u001b[39m\u001b[32m4341\u001b[39m     \u001b[38;5;28mself\u001b[39m._do_download(\n\u001b[32m   4342\u001b[39m         transport,\n\u001b[32m   4343\u001b[39m         file_obj,\n\u001b[32m   4344\u001b[39m         download_url,\n\u001b[32m   4345\u001b[39m         headers,\n\u001b[32m   4346\u001b[39m         start,\n\u001b[32m   4347\u001b[39m         end,\n\u001b[32m   4348\u001b[39m         raw_download,\n\u001b[32m   4349\u001b[39m         timeout=timeout,\n\u001b[32m   4350\u001b[39m         checksum=checksum,\n\u001b[32m   4351\u001b[39m         retry=retry,\n\u001b[32m   4352\u001b[39m     )\n\u001b[32m   4353\u001b[39m \u001b[38;5;28;01mexcept\u001b[39;00m InvalidResponse \u001b[38;5;28;01mas\u001b[39;00m exc:\n",
      "\u001b[36mFile \u001b[39m\u001b[32mc:\\Users\\andre\\miniconda3\\envs\\gcp_read_write_testing\\Lib\\site-packages\\google\\cloud\\storage\\blob.py:1082\u001b[39m, in \u001b[36mBlob._do_download\u001b[39m\u001b[34m(self, transport, file_obj, download_url, headers, start, end, raw_download, timeout, checksum, retry)\u001b[39m\n\u001b[32m   1077\u001b[39m \u001b[38;5;28;01mwith\u001b[39;00m create_trace_span(\n\u001b[32m   1078\u001b[39m     name=\u001b[33mf\u001b[39m\u001b[33m\"\u001b[39m\u001b[33mStorage.\u001b[39m\u001b[38;5;132;01m{\u001b[39;00mdownload_class\u001b[38;5;132;01m}\u001b[39;00m\u001b[33m/consume\u001b[39m\u001b[33m\"\u001b[39m,\n\u001b[32m   1079\u001b[39m     attributes=extra_attributes,\n\u001b[32m   1080\u001b[39m     api_request=args,\n\u001b[32m   1081\u001b[39m ):\n\u001b[32m-> \u001b[39m\u001b[32m1082\u001b[39m     response = download.consume(transport, timeout=timeout)\n\u001b[32m   1083\u001b[39m     \u001b[38;5;28mself\u001b[39m._extract_headers_from_download(response)\n",
      "\u001b[36mFile \u001b[39m\u001b[32mc:\\Users\\andre\\miniconda3\\envs\\gcp_read_write_testing\\Lib\\site-packages\\google\\cloud\\storage\\_media\\requests\\download.py:246\u001b[39m, in \u001b[36mDownload.consume\u001b[39m\u001b[34m(self, transport, timeout)\u001b[39m\n\u001b[32m    244\u001b[39m     \u001b[38;5;28;01mreturn\u001b[39;00m result\n\u001b[32m--> \u001b[39m\u001b[32m246\u001b[39m \u001b[38;5;28;01mreturn\u001b[39;00m _request_helpers.wait_and_retry(retriable_request, \u001b[38;5;28mself\u001b[39m._retry_strategy)\n",
      "\u001b[36mFile \u001b[39m\u001b[32mc:\\Users\\andre\\miniconda3\\envs\\gcp_read_write_testing\\Lib\\site-packages\\google\\cloud\\storage\\_media\\requests\\_request_helpers.py:107\u001b[39m, in \u001b[36mwait_and_retry\u001b[39m\u001b[34m(func, retry_strategy)\u001b[39m\n\u001b[32m    106\u001b[39m     func = retry_strategy(func)\n\u001b[32m--> \u001b[39m\u001b[32m107\u001b[39m \u001b[38;5;28;01mreturn\u001b[39;00m func()\n",
      "\u001b[36mFile \u001b[39m\u001b[32mc:\\Users\\andre\\miniconda3\\envs\\gcp_read_write_testing\\Lib\\site-packages\\google\\api_core\\retry\\retry_unary.py:293\u001b[39m, in \u001b[36mRetry.__call__.<locals>.retry_wrapped_func\u001b[39m\u001b[34m(*args, **kwargs)\u001b[39m\n\u001b[32m    290\u001b[39m sleep_generator = exponential_sleep_generator(\n\u001b[32m    291\u001b[39m     \u001b[38;5;28mself\u001b[39m._initial, \u001b[38;5;28mself\u001b[39m._maximum, multiplier=\u001b[38;5;28mself\u001b[39m._multiplier\n\u001b[32m    292\u001b[39m )\n\u001b[32m--> \u001b[39m\u001b[32m293\u001b[39m \u001b[38;5;28;01mreturn\u001b[39;00m retry_target(\n\u001b[32m    294\u001b[39m     target,\n\u001b[32m    295\u001b[39m     \u001b[38;5;28mself\u001b[39m._predicate,\n\u001b[32m    296\u001b[39m     sleep_generator,\n\u001b[32m    297\u001b[39m     timeout=\u001b[38;5;28mself\u001b[39m._timeout,\n\u001b[32m    298\u001b[39m     on_error=on_error,\n\u001b[32m    299\u001b[39m )\n",
      "\u001b[36mFile \u001b[39m\u001b[32mc:\\Users\\andre\\miniconda3\\envs\\gcp_read_write_testing\\Lib\\site-packages\\google\\api_core\\retry\\retry_unary.py:153\u001b[39m, in \u001b[36mretry_target\u001b[39m\u001b[34m(target, predicate, sleep_generator, timeout, on_error, exception_factory, **kwargs)\u001b[39m\n\u001b[32m    151\u001b[39m \u001b[38;5;28;01mexcept\u001b[39;00m \u001b[38;5;167;01mException\u001b[39;00m \u001b[38;5;28;01mas\u001b[39;00m exc:\n\u001b[32m    152\u001b[39m     \u001b[38;5;66;03m# defer to shared logic for handling errors\u001b[39;00m\n\u001b[32m--> \u001b[39m\u001b[32m153\u001b[39m     _retry_error_helper(\n\u001b[32m    154\u001b[39m         exc,\n\u001b[32m    155\u001b[39m         deadline,\n\u001b[32m    156\u001b[39m         sleep,\n\u001b[32m    157\u001b[39m         error_list,\n\u001b[32m    158\u001b[39m         predicate,\n\u001b[32m    159\u001b[39m         on_error,\n\u001b[32m    160\u001b[39m         exception_factory,\n\u001b[32m    161\u001b[39m         timeout,\n\u001b[32m    162\u001b[39m     )\n\u001b[32m    163\u001b[39m     \u001b[38;5;66;03m# if exception not raised, sleep before next attempt\u001b[39;00m\n",
      "\u001b[36mFile \u001b[39m\u001b[32mc:\\Users\\andre\\miniconda3\\envs\\gcp_read_write_testing\\Lib\\site-packages\\google\\api_core\\retry\\retry_base.py:212\u001b[39m, in \u001b[36m_retry_error_helper\u001b[39m\u001b[34m(exc, deadline, next_sleep, error_list, predicate_fn, on_error_fn, exc_factory_fn, original_timeout)\u001b[39m\n\u001b[32m    207\u001b[39m     final_exc, source_exc = exc_factory_fn(\n\u001b[32m    208\u001b[39m         error_list,\n\u001b[32m    209\u001b[39m         RetryFailureReason.NON_RETRYABLE_ERROR,\n\u001b[32m    210\u001b[39m         original_timeout,\n\u001b[32m    211\u001b[39m     )\n\u001b[32m--> \u001b[39m\u001b[32m212\u001b[39m     \u001b[38;5;28;01mraise\u001b[39;00m final_exc \u001b[38;5;28;01mfrom\u001b[39;00m\u001b[38;5;250m \u001b[39m\u001b[34;01msource_exc\u001b[39;00m\n\u001b[32m    213\u001b[39m \u001b[38;5;28;01mif\u001b[39;00m on_error_fn \u001b[38;5;129;01mis\u001b[39;00m \u001b[38;5;129;01mnot\u001b[39;00m \u001b[38;5;28;01mNone\u001b[39;00m:\n",
      "\u001b[36mFile \u001b[39m\u001b[32mc:\\Users\\andre\\miniconda3\\envs\\gcp_read_write_testing\\Lib\\site-packages\\google\\api_core\\retry\\retry_unary.py:144\u001b[39m, in \u001b[36mretry_target\u001b[39m\u001b[34m(target, predicate, sleep_generator, timeout, on_error, exception_factory, **kwargs)\u001b[39m\n\u001b[32m    143\u001b[39m \u001b[38;5;28;01mtry\u001b[39;00m:\n\u001b[32m--> \u001b[39m\u001b[32m144\u001b[39m     result = target()\n\u001b[32m    145\u001b[39m     \u001b[38;5;28;01mif\u001b[39;00m inspect.isawaitable(result):\n",
      "\u001b[36mFile \u001b[39m\u001b[32mc:\\Users\\andre\\miniconda3\\envs\\gcp_read_write_testing\\Lib\\site-packages\\google\\cloud\\storage\\_media\\requests\\download.py:228\u001b[39m, in \u001b[36mDownload.consume.<locals>.retriable_request\u001b[39m\u001b[34m()\u001b[39m\n\u001b[32m    224\u001b[39m     \u001b[38;5;28mself\u001b[39m._object_generation = _helpers._parse_generation_header(\n\u001b[32m    225\u001b[39m         result, \u001b[38;5;28mself\u001b[39m._get_headers\n\u001b[32m    226\u001b[39m     )\n\u001b[32m--> \u001b[39m\u001b[32m228\u001b[39m \u001b[38;5;28mself\u001b[39m._process_response(result)\n\u001b[32m    230\u001b[39m \u001b[38;5;66;03m# With decompressive transcoding, GCS serves back the whole file regardless of the range request,\u001b[39;00m\n\u001b[32m    231\u001b[39m \u001b[38;5;66;03m# thus we reset the stream position to the start of the stream.\u001b[39;00m\n\u001b[32m    232\u001b[39m \u001b[38;5;66;03m# See: https://cloud.google.com/storage/docs/transcoding#range\u001b[39;00m\n",
      "\u001b[36mFile \u001b[39m\u001b[32mc:\\Users\\andre\\miniconda3\\envs\\gcp_read_write_testing\\Lib\\site-packages\\google\\cloud\\storage\\_media\\_download.py:227\u001b[39m, in \u001b[36mDownload._process_response\u001b[39m\u001b[34m(self, response)\u001b[39m\n\u001b[32m    226\u001b[39m \u001b[38;5;28mself\u001b[39m._finished = \u001b[38;5;28;01mTrue\u001b[39;00m\n\u001b[32m--> \u001b[39m\u001b[32m227\u001b[39m _helpers.require_status_code(\n\u001b[32m    228\u001b[39m     response, _ACCEPTABLE_STATUS_CODES, \u001b[38;5;28mself\u001b[39m._get_status_code\n\u001b[32m    229\u001b[39m )\n",
      "\u001b[36mFile \u001b[39m\u001b[32mc:\\Users\\andre\\miniconda3\\envs\\gcp_read_write_testing\\Lib\\site-packages\\google\\cloud\\storage\\_media\\_helpers.py:105\u001b[39m, in \u001b[36mrequire_status_code\u001b[39m\u001b[34m(response, status_codes, get_status_code, callback)\u001b[39m\n\u001b[32m    104\u001b[39m         callback()\n\u001b[32m--> \u001b[39m\u001b[32m105\u001b[39m     \u001b[38;5;28;01mraise\u001b[39;00m InvalidResponse(\n\u001b[32m    106\u001b[39m         response,\n\u001b[32m    107\u001b[39m         \u001b[33m\"\u001b[39m\u001b[33mRequest failed with status code\u001b[39m\u001b[33m\"\u001b[39m,\n\u001b[32m    108\u001b[39m         status_code,\n\u001b[32m    109\u001b[39m         \u001b[33m\"\u001b[39m\u001b[33mExpected one of\u001b[39m\u001b[33m\"\u001b[39m,\n\u001b[32m    110\u001b[39m         *status_codes\n\u001b[32m    111\u001b[39m     )\n\u001b[32m    112\u001b[39m \u001b[38;5;28;01mreturn\u001b[39;00m status_code\n",
      "\u001b[31mInvalidResponse\u001b[39m: ('Request failed with status code', 403, 'Expected one of', <HTTPStatus.OK: 200>, <HTTPStatus.PARTIAL_CONTENT: 206>)",
      "\nDuring handling of the above exception, another exception occurred:\n",
      "\u001b[31mForbidden\u001b[39m                                 Traceback (most recent call last)",
      "\u001b[36mCell\u001b[39m\u001b[36m \u001b[39m\u001b[32mIn[10]\u001b[39m\u001b[32m, line 1\u001b[39m\n\u001b[32m----> \u001b[39m\u001b[32m1\u001b[39m stineman_siblings = gcp_read_csv(gcp_client_obj = client,\n\u001b[32m      2\u001b[39m                                  bucket_name = \u001b[33m'\u001b[39m\u001b[33mgcp_read_write_testing\u001b[39m\u001b[33m'\u001b[39m,\n\u001b[32m      3\u001b[39m                                  csv_file_name = \u001b[33m'\u001b[39m\u001b[33mstineman_siblings.csv\u001b[39m\u001b[33m'\u001b[39m)\n",
      "\u001b[36mFile \u001b[39m\u001b[32mc:\\Users\\andre\\gamebeast\\projects\\gcp_read_write_testing\\src\\utils.py:10\u001b[39m, in \u001b[36mgcp_read_csv\u001b[39m\u001b[34m(gcp_client_obj, bucket_name, csv_file_name)\u001b[39m\n\u001b[32m      8\u001b[39m \u001b[38;5;28;01mdef\u001b[39;00m\u001b[38;5;250m \u001b[39m\u001b[34mgcp_read_csv\u001b[39m(gcp_client_obj, bucket_name, csv_file_name):\n\u001b[32m      9\u001b[39m     file = gcp_client_obj.bucket(bucket_name).blob(csv_file_name)\n\u001b[32m---> \u001b[39m\u001b[32m10\u001b[39m     data = file.download_as_text()\n\u001b[32m     11\u001b[39m     df = pd.read_csv(StringIO(data))\n\u001b[32m     13\u001b[39m     \u001b[38;5;28;01mreturn\u001b[39;00m df\n",
      "\u001b[36mFile \u001b[39m\u001b[32mc:\\Users\\andre\\miniconda3\\envs\\gcp_read_write_testing\\Lib\\site-packages\\google\\cloud\\storage\\blob.py:1712\u001b[39m, in \u001b[36mBlob.download_as_text\u001b[39m\u001b[34m(self, client, start, end, raw_download, encoding, if_etag_match, if_etag_not_match, if_generation_match, if_generation_not_match, if_metageneration_match, if_metageneration_not_match, timeout, retry)\u001b[39m\n\u001b[32m   1637\u001b[39m \u001b[38;5;250m\u001b[39m\u001b[33;03m\"\"\"Download the contents of this blob as text (*not* bytes).\u001b[39;00m\n\u001b[32m   1638\u001b[39m \n\u001b[32m   1639\u001b[39m \u001b[33;03mIf :attr:`user_project` is set on the bucket, bills the API request\u001b[39;00m\n\u001b[32m   (...)\u001b[39m\u001b[32m   1709\u001b[39m \u001b[33;03m:returns: The data stored in this blob, decoded to text.\u001b[39;00m\n\u001b[32m   1710\u001b[39m \u001b[33;03m\"\"\"\u001b[39;00m\n\u001b[32m   1711\u001b[39m \u001b[38;5;28;01mwith\u001b[39;00m create_trace_span(name=\u001b[33m\"\u001b[39m\u001b[33mStorage.Blob.downloadAsText\u001b[39m\u001b[33m\"\u001b[39m):\n\u001b[32m-> \u001b[39m\u001b[32m1712\u001b[39m     data = \u001b[38;5;28mself\u001b[39m.download_as_bytes(\n\u001b[32m   1713\u001b[39m         client=client,\n\u001b[32m   1714\u001b[39m         start=start,\n\u001b[32m   1715\u001b[39m         end=end,\n\u001b[32m   1716\u001b[39m         raw_download=raw_download,\n\u001b[32m   1717\u001b[39m         if_etag_match=if_etag_match,\n\u001b[32m   1718\u001b[39m         if_etag_not_match=if_etag_not_match,\n\u001b[32m   1719\u001b[39m         if_generation_match=if_generation_match,\n\u001b[32m   1720\u001b[39m         if_generation_not_match=if_generation_not_match,\n\u001b[32m   1721\u001b[39m         if_metageneration_match=if_metageneration_match,\n\u001b[32m   1722\u001b[39m         if_metageneration_not_match=if_metageneration_not_match,\n\u001b[32m   1723\u001b[39m         timeout=timeout,\n\u001b[32m   1724\u001b[39m         retry=retry,\n\u001b[32m   1725\u001b[39m     )\n\u001b[32m   1727\u001b[39m     \u001b[38;5;28;01mif\u001b[39;00m encoding \u001b[38;5;129;01mis\u001b[39;00m \u001b[38;5;129;01mnot\u001b[39;00m \u001b[38;5;28;01mNone\u001b[39;00m:\n\u001b[32m   1728\u001b[39m         \u001b[38;5;28;01mreturn\u001b[39;00m data.decode(encoding)\n",
      "\u001b[36mFile \u001b[39m\u001b[32mc:\\Users\\andre\\miniconda3\\envs\\gcp_read_write_testing\\Lib\\site-packages\\google\\cloud\\storage\\blob.py:1495\u001b[39m, in \u001b[36mBlob.download_as_bytes\u001b[39m\u001b[34m(self, client, start, end, raw_download, if_etag_match, if_etag_not_match, if_generation_match, if_generation_not_match, if_metageneration_match, if_metageneration_not_match, timeout, checksum, retry)\u001b[39m\n\u001b[32m   1492\u001b[39m \u001b[38;5;28;01mwith\u001b[39;00m create_trace_span(name=\u001b[33m\"\u001b[39m\u001b[33mStorage.Blob.downloadAsBytes\u001b[39m\u001b[33m\"\u001b[39m):\n\u001b[32m   1493\u001b[39m     string_buffer = BytesIO()\n\u001b[32m-> \u001b[39m\u001b[32m1495\u001b[39m     \u001b[38;5;28mself\u001b[39m._prep_and_do_download(\n\u001b[32m   1496\u001b[39m         string_buffer,\n\u001b[32m   1497\u001b[39m         client=client,\n\u001b[32m   1498\u001b[39m         start=start,\n\u001b[32m   1499\u001b[39m         end=end,\n\u001b[32m   1500\u001b[39m         raw_download=raw_download,\n\u001b[32m   1501\u001b[39m         if_etag_match=if_etag_match,\n\u001b[32m   1502\u001b[39m         if_etag_not_match=if_etag_not_match,\n\u001b[32m   1503\u001b[39m         if_generation_match=if_generation_match,\n\u001b[32m   1504\u001b[39m         if_generation_not_match=if_generation_not_match,\n\u001b[32m   1505\u001b[39m         if_metageneration_match=if_metageneration_match,\n\u001b[32m   1506\u001b[39m         if_metageneration_not_match=if_metageneration_not_match,\n\u001b[32m   1507\u001b[39m         timeout=timeout,\n\u001b[32m   1508\u001b[39m         checksum=checksum,\n\u001b[32m   1509\u001b[39m         retry=retry,\n\u001b[32m   1510\u001b[39m     )\n\u001b[32m   1511\u001b[39m     \u001b[38;5;28;01mreturn\u001b[39;00m string_buffer.getvalue()\n",
      "\u001b[36mFile \u001b[39m\u001b[32mc:\\Users\\andre\\miniconda3\\envs\\gcp_read_write_testing\\Lib\\site-packages\\google\\cloud\\storage\\blob.py:4354\u001b[39m, in \u001b[36mBlob._prep_and_do_download\u001b[39m\u001b[34m(self, file_obj, client, start, end, raw_download, if_etag_match, if_etag_not_match, if_generation_match, if_generation_not_match, if_metageneration_match, if_metageneration_not_match, timeout, checksum, retry, command)\u001b[39m\n\u001b[32m   4341\u001b[39m     \u001b[38;5;28mself\u001b[39m._do_download(\n\u001b[32m   4342\u001b[39m         transport,\n\u001b[32m   4343\u001b[39m         file_obj,\n\u001b[32m   (...)\u001b[39m\u001b[32m   4351\u001b[39m         retry=retry,\n\u001b[32m   4352\u001b[39m     )\n\u001b[32m   4353\u001b[39m \u001b[38;5;28;01mexcept\u001b[39;00m InvalidResponse \u001b[38;5;28;01mas\u001b[39;00m exc:\n\u001b[32m-> \u001b[39m\u001b[32m4354\u001b[39m     _raise_from_invalid_response(exc)\n",
      "\u001b[36mFile \u001b[39m\u001b[32mc:\\Users\\andre\\miniconda3\\envs\\gcp_read_write_testing\\Lib\\site-packages\\google\\cloud\\storage\\blob.py:4826\u001b[39m, in \u001b[36m_raise_from_invalid_response\u001b[39m\u001b[34m(error)\u001b[39m\n\u001b[32m   4822\u001b[39m     error_message = \u001b[38;5;28mstr\u001b[39m(error)\n\u001b[32m   4824\u001b[39m message = \u001b[33mf\u001b[39m\u001b[33m\"\u001b[39m\u001b[38;5;132;01m{\u001b[39;00mresponse.request.method\u001b[38;5;132;01m}\u001b[39;00m\u001b[33m \u001b[39m\u001b[38;5;132;01m{\u001b[39;00mresponse.request.url\u001b[38;5;132;01m}\u001b[39;00m\u001b[33m: \u001b[39m\u001b[38;5;132;01m{\u001b[39;00merror_message\u001b[38;5;132;01m}\u001b[39;00m\u001b[33m\"\u001b[39m\n\u001b[32m-> \u001b[39m\u001b[32m4826\u001b[39m \u001b[38;5;28;01mraise\u001b[39;00m exceptions.from_http_status(response.status_code, message, response=response)\n",
      "\u001b[31mForbidden\u001b[39m: 403 GET https://storage.googleapis.com/download/storage/v1/b/gcp_read_write_testing/o/stineman_siblings.csv?alt=media: andrewtstineman@gmail.com does not have storage.objects.get access to the Google Cloud Storage object. Permission &#39;storage.objects.get&#39; denied on resource (or it may not exist).: ('Request failed with status code', 403, 'Expected one of', <HTTPStatus.OK: 200>, <HTTPStatus.PARTIAL_CONTENT: 206>)"
     ]
    }
   ],
   "source": [
    "stineman_siblings = gcp_read_csv(gcp_client_obj = client,\n",
    "                                 bucket_name = 'gcp_read_write_testing',\n",
    "                                 csv_file_name = 'stineman_siblings.csv')"
   ]
  },
  {
   "cell_type": "markdown",
   "metadata": {},
   "source": [
    "Error! 403 GET: andrewtstineman@gmail.com does not have storage.objects.get access to the Google Cloud Storage object.\n",
    "\n",
    "Response:\n",
    "\n",
    "1. Navigated to the Permissions settings for the gcp_read_write_testing bucket, then added access for andrewtstineman@gmail.com with the \"Storage Object Viewer\" role\n",
    "2. Run ```gcloud auth application-default revoke``` to remove andrewtstineman@gmail.com credentials\n",
    "3. Run ```gcloud auth application-default login``` to again attempt to authenticate as andrewtstineman@gmail.com"
   ]
  },
  {
   "cell_type": "code",
   "execution_count": 11,
   "metadata": {},
   "outputs": [],
   "source": [
    "client = storage.Client()"
   ]
  },
  {
   "cell_type": "markdown",
   "metadata": {},
   "source": [
    "Re-initializing the client"
   ]
  },
  {
   "cell_type": "code",
   "execution_count": 12,
   "metadata": {},
   "outputs": [],
   "source": [
    "stineman_siblings = gcp_read_csv(gcp_client_obj = client,\n",
    "                                 bucket_name = 'gcp_read_write_testing',\n",
    "                                 csv_file_name = 'stineman_siblings.csv')"
   ]
  },
  {
   "cell_type": "code",
   "execution_count": 13,
   "metadata": {},
   "outputs": [
    {
     "data": {
      "text/html": [
       "<div>\n",
       "<style scoped>\n",
       "    .dataframe tbody tr th:only-of-type {\n",
       "        vertical-align: middle;\n",
       "    }\n",
       "\n",
       "    .dataframe tbody tr th {\n",
       "        vertical-align: top;\n",
       "    }\n",
       "\n",
       "    .dataframe thead th {\n",
       "        text-align: right;\n",
       "    }\n",
       "</style>\n",
       "<table border=\"1\" class=\"dataframe\">\n",
       "  <thead>\n",
       "    <tr style=\"text-align: right;\">\n",
       "      <th></th>\n",
       "      <th>name</th>\n",
       "      <th>birthdate</th>\n",
       "      <th>height_inches</th>\n",
       "    </tr>\n",
       "  </thead>\n",
       "  <tbody>\n",
       "    <tr>\n",
       "      <th>0</th>\n",
       "      <td>Alexandra</td>\n",
       "      <td>5/12/2011</td>\n",
       "      <td>68.00</td>\n",
       "    </tr>\n",
       "    <tr>\n",
       "      <th>1</th>\n",
       "      <td>Nathan</td>\n",
       "      <td>3/20/2009</td>\n",
       "      <td>71.50</td>\n",
       "    </tr>\n",
       "    <tr>\n",
       "      <th>2</th>\n",
       "      <td>Sarah</td>\n",
       "      <td>4/8/2006</td>\n",
       "      <td>71.00</td>\n",
       "    </tr>\n",
       "    <tr>\n",
       "      <th>3</th>\n",
       "      <td>Nicholas</td>\n",
       "      <td>8/27/2000</td>\n",
       "      <td>74.00</td>\n",
       "    </tr>\n",
       "    <tr>\n",
       "      <th>4</th>\n",
       "      <td>Andrew</td>\n",
       "      <td>10/21/1997</td>\n",
       "      <td>76.75</td>\n",
       "    </tr>\n",
       "  </tbody>\n",
       "</table>\n",
       "</div>"
      ],
      "text/plain": [
       "        name   birthdate  height_inches\n",
       "0  Alexandra   5/12/2011          68.00\n",
       "1     Nathan   3/20/2009          71.50\n",
       "2      Sarah    4/8/2006          71.00\n",
       "3   Nicholas   8/27/2000          74.00\n",
       "4     Andrew  10/21/1997          76.75"
      ]
     },
     "execution_count": 13,
     "metadata": {},
     "output_type": "execute_result"
    }
   ],
   "source": [
    "stineman_siblings"
   ]
  },
  {
   "cell_type": "markdown",
   "metadata": {},
   "source": [
    "Import successful!"
   ]
  },
  {
   "cell_type": "markdown",
   "metadata": {},
   "source": [
    "### Write Test"
   ]
  },
  {
   "cell_type": "code",
   "execution_count": 14,
   "metadata": {},
   "outputs": [
    {
     "ename": "Forbidden",
     "evalue": "403 POST https://storage.googleapis.com/upload/storage/v1/b/gcp_read_write_testing/o?uploadType=multipart: {\n  \"error\": {\n    \"code\": 403,\n    \"message\": \"andrewtstineman@gmail.com does not have storage.objects.create access to the Google Cloud Storage object. Permission 'storage.objects.create' denied on resource (or it may not exist).\",\n    \"errors\": [\n      {\n        \"message\": \"andrewtstineman@gmail.com does not have storage.objects.create access to the Google Cloud Storage object. Permission 'storage.objects.create' denied on resource (or it may not exist).\",\n        \"domain\": \"global\",\n        \"reason\": \"forbidden\"\n      }\n    ]\n  }\n}\n: ('Request failed with status code', 403, 'Expected one of', <HTTPStatus.OK: 200>)",
     "output_type": "error",
     "traceback": [
      "\u001b[31m---------------------------------------------------------------------------\u001b[39m",
      "\u001b[31mInvalidResponse\u001b[39m                           Traceback (most recent call last)",
      "\u001b[36mFile \u001b[39m\u001b[32mc:\\Users\\andre\\miniconda3\\envs\\gcp_read_write_testing\\Lib\\site-packages\\google\\cloud\\storage\\blob.py:2638\u001b[39m, in \u001b[36mBlob._prep_and_do_upload\u001b[39m\u001b[34m(self, file_obj, rewind, size, content_type, client, predefined_acl, if_generation_match, if_generation_not_match, if_metageneration_match, if_metageneration_not_match, timeout, checksum, retry, command)\u001b[39m\n\u001b[32m   2637\u001b[39m \u001b[38;5;28;01mtry\u001b[39;00m:\n\u001b[32m-> \u001b[39m\u001b[32m2638\u001b[39m     created_json = \u001b[38;5;28mself\u001b[39m._do_upload(\n\u001b[32m   2639\u001b[39m         client,\n\u001b[32m   2640\u001b[39m         file_obj,\n\u001b[32m   2641\u001b[39m         content_type,\n\u001b[32m   2642\u001b[39m         size,\n\u001b[32m   2643\u001b[39m         predefined_acl,\n\u001b[32m   2644\u001b[39m         if_generation_match,\n\u001b[32m   2645\u001b[39m         if_generation_not_match,\n\u001b[32m   2646\u001b[39m         if_metageneration_match,\n\u001b[32m   2647\u001b[39m         if_metageneration_not_match,\n\u001b[32m   2648\u001b[39m         timeout=timeout,\n\u001b[32m   2649\u001b[39m         checksum=checksum,\n\u001b[32m   2650\u001b[39m         retry=retry,\n\u001b[32m   2651\u001b[39m         command=command,\n\u001b[32m   2652\u001b[39m     )\n\u001b[32m   2653\u001b[39m     \u001b[38;5;28mself\u001b[39m._set_properties(created_json)\n",
      "\u001b[36mFile \u001b[39m\u001b[32mc:\\Users\\andre\\miniconda3\\envs\\gcp_read_write_testing\\Lib\\site-packages\\google\\cloud\\storage\\blob.py:2467\u001b[39m, in \u001b[36mBlob._do_upload\u001b[39m\u001b[34m(self, client, stream, content_type, size, predefined_acl, if_generation_match, if_generation_not_match, if_metageneration_match, if_metageneration_not_match, timeout, checksum, retry, command)\u001b[39m\n\u001b[32m   2466\u001b[39m \u001b[38;5;28;01mif\u001b[39;00m size \u001b[38;5;129;01mis\u001b[39;00m \u001b[38;5;129;01mnot\u001b[39;00m \u001b[38;5;28;01mNone\u001b[39;00m \u001b[38;5;129;01mand\u001b[39;00m size <= _MAX_MULTIPART_SIZE:\n\u001b[32m-> \u001b[39m\u001b[32m2467\u001b[39m     response = \u001b[38;5;28mself\u001b[39m._do_multipart_upload(\n\u001b[32m   2468\u001b[39m         client,\n\u001b[32m   2469\u001b[39m         stream,\n\u001b[32m   2470\u001b[39m         content_type,\n\u001b[32m   2471\u001b[39m         size,\n\u001b[32m   2472\u001b[39m         predefined_acl,\n\u001b[32m   2473\u001b[39m         if_generation_match,\n\u001b[32m   2474\u001b[39m         if_generation_not_match,\n\u001b[32m   2475\u001b[39m         if_metageneration_match,\n\u001b[32m   2476\u001b[39m         if_metageneration_not_match,\n\u001b[32m   2477\u001b[39m         timeout=timeout,\n\u001b[32m   2478\u001b[39m         checksum=checksum,\n\u001b[32m   2479\u001b[39m         retry=retry,\n\u001b[32m   2480\u001b[39m         command=command,\n\u001b[32m   2481\u001b[39m     )\n\u001b[32m   2482\u001b[39m \u001b[38;5;28;01melse\u001b[39;00m:\n",
      "\u001b[36mFile \u001b[39m\u001b[32mc:\\Users\\andre\\miniconda3\\envs\\gcp_read_write_testing\\Lib\\site-packages\\google\\cloud\\storage\\blob.py:2006\u001b[39m, in \u001b[36mBlob._do_multipart_upload\u001b[39m\u001b[34m(self, client, stream, content_type, size, predefined_acl, if_generation_match, if_generation_not_match, if_metageneration_match, if_metageneration_not_match, timeout, checksum, retry, command)\u001b[39m\n\u001b[32m   2000\u001b[39m \u001b[38;5;28;01mwith\u001b[39;00m create_trace_span(\n\u001b[32m   2001\u001b[39m     name=\u001b[33m\"\u001b[39m\u001b[33mStorage.MultipartUpload/transmit\u001b[39m\u001b[33m\"\u001b[39m,\n\u001b[32m   2002\u001b[39m     attributes=extra_attributes,\n\u001b[32m   2003\u001b[39m     client=client,\n\u001b[32m   2004\u001b[39m     api_request=args,\n\u001b[32m   2005\u001b[39m ):\n\u001b[32m-> \u001b[39m\u001b[32m2006\u001b[39m     response = upload.transmit(\n\u001b[32m   2007\u001b[39m         transport, data, object_metadata, content_type, timeout=timeout\n\u001b[32m   2008\u001b[39m     )\n\u001b[32m   2010\u001b[39m     \u001b[38;5;28;01mreturn\u001b[39;00m response\n",
      "\u001b[36mFile \u001b[39m\u001b[32mc:\\Users\\andre\\miniconda3\\envs\\gcp_read_write_testing\\Lib\\site-packages\\google\\cloud\\storage\\_media\\requests\\upload.py:161\u001b[39m, in \u001b[36mMultipartUpload.transmit\u001b[39m\u001b[34m(self, transport, data, metadata, content_type, timeout)\u001b[39m\n\u001b[32m    159\u001b[39m     \u001b[38;5;28;01mreturn\u001b[39;00m result\n\u001b[32m--> \u001b[39m\u001b[32m161\u001b[39m \u001b[38;5;28;01mreturn\u001b[39;00m _request_helpers.wait_and_retry(retriable_request, \u001b[38;5;28mself\u001b[39m._retry_strategy)\n",
      "\u001b[36mFile \u001b[39m\u001b[32mc:\\Users\\andre\\miniconda3\\envs\\gcp_read_write_testing\\Lib\\site-packages\\google\\cloud\\storage\\_media\\requests\\_request_helpers.py:107\u001b[39m, in \u001b[36mwait_and_retry\u001b[39m\u001b[34m(func, retry_strategy)\u001b[39m\n\u001b[32m    106\u001b[39m     func = retry_strategy(func)\n\u001b[32m--> \u001b[39m\u001b[32m107\u001b[39m \u001b[38;5;28;01mreturn\u001b[39;00m func()\n",
      "\u001b[36mFile \u001b[39m\u001b[32mc:\\Users\\andre\\miniconda3\\envs\\gcp_read_write_testing\\Lib\\site-packages\\google\\api_core\\retry\\retry_unary.py:293\u001b[39m, in \u001b[36mRetry.__call__.<locals>.retry_wrapped_func\u001b[39m\u001b[34m(*args, **kwargs)\u001b[39m\n\u001b[32m    290\u001b[39m sleep_generator = exponential_sleep_generator(\n\u001b[32m    291\u001b[39m     \u001b[38;5;28mself\u001b[39m._initial, \u001b[38;5;28mself\u001b[39m._maximum, multiplier=\u001b[38;5;28mself\u001b[39m._multiplier\n\u001b[32m    292\u001b[39m )\n\u001b[32m--> \u001b[39m\u001b[32m293\u001b[39m \u001b[38;5;28;01mreturn\u001b[39;00m retry_target(\n\u001b[32m    294\u001b[39m     target,\n\u001b[32m    295\u001b[39m     \u001b[38;5;28mself\u001b[39m._predicate,\n\u001b[32m    296\u001b[39m     sleep_generator,\n\u001b[32m    297\u001b[39m     timeout=\u001b[38;5;28mself\u001b[39m._timeout,\n\u001b[32m    298\u001b[39m     on_error=on_error,\n\u001b[32m    299\u001b[39m )\n",
      "\u001b[36mFile \u001b[39m\u001b[32mc:\\Users\\andre\\miniconda3\\envs\\gcp_read_write_testing\\Lib\\site-packages\\google\\api_core\\retry\\retry_unary.py:153\u001b[39m, in \u001b[36mretry_target\u001b[39m\u001b[34m(target, predicate, sleep_generator, timeout, on_error, exception_factory, **kwargs)\u001b[39m\n\u001b[32m    151\u001b[39m \u001b[38;5;28;01mexcept\u001b[39;00m \u001b[38;5;167;01mException\u001b[39;00m \u001b[38;5;28;01mas\u001b[39;00m exc:\n\u001b[32m    152\u001b[39m     \u001b[38;5;66;03m# defer to shared logic for handling errors\u001b[39;00m\n\u001b[32m--> \u001b[39m\u001b[32m153\u001b[39m     _retry_error_helper(\n\u001b[32m    154\u001b[39m         exc,\n\u001b[32m    155\u001b[39m         deadline,\n\u001b[32m    156\u001b[39m         sleep,\n\u001b[32m    157\u001b[39m         error_list,\n\u001b[32m    158\u001b[39m         predicate,\n\u001b[32m    159\u001b[39m         on_error,\n\u001b[32m    160\u001b[39m         exception_factory,\n\u001b[32m    161\u001b[39m         timeout,\n\u001b[32m    162\u001b[39m     )\n\u001b[32m    163\u001b[39m     \u001b[38;5;66;03m# if exception not raised, sleep before next attempt\u001b[39;00m\n",
      "\u001b[36mFile \u001b[39m\u001b[32mc:\\Users\\andre\\miniconda3\\envs\\gcp_read_write_testing\\Lib\\site-packages\\google\\api_core\\retry\\retry_base.py:212\u001b[39m, in \u001b[36m_retry_error_helper\u001b[39m\u001b[34m(exc, deadline, next_sleep, error_list, predicate_fn, on_error_fn, exc_factory_fn, original_timeout)\u001b[39m\n\u001b[32m    207\u001b[39m     final_exc, source_exc = exc_factory_fn(\n\u001b[32m    208\u001b[39m         error_list,\n\u001b[32m    209\u001b[39m         RetryFailureReason.NON_RETRYABLE_ERROR,\n\u001b[32m    210\u001b[39m         original_timeout,\n\u001b[32m    211\u001b[39m     )\n\u001b[32m--> \u001b[39m\u001b[32m212\u001b[39m     \u001b[38;5;28;01mraise\u001b[39;00m final_exc \u001b[38;5;28;01mfrom\u001b[39;00m\u001b[38;5;250m \u001b[39m\u001b[34;01msource_exc\u001b[39;00m\n\u001b[32m    213\u001b[39m \u001b[38;5;28;01mif\u001b[39;00m on_error_fn \u001b[38;5;129;01mis\u001b[39;00m \u001b[38;5;129;01mnot\u001b[39;00m \u001b[38;5;28;01mNone\u001b[39;00m:\n",
      "\u001b[36mFile \u001b[39m\u001b[32mc:\\Users\\andre\\miniconda3\\envs\\gcp_read_write_testing\\Lib\\site-packages\\google\\api_core\\retry\\retry_unary.py:144\u001b[39m, in \u001b[36mretry_target\u001b[39m\u001b[34m(target, predicate, sleep_generator, timeout, on_error, exception_factory, **kwargs)\u001b[39m\n\u001b[32m    143\u001b[39m \u001b[38;5;28;01mtry\u001b[39;00m:\n\u001b[32m--> \u001b[39m\u001b[32m144\u001b[39m     result = target()\n\u001b[32m    145\u001b[39m     \u001b[38;5;28;01mif\u001b[39;00m inspect.isawaitable(result):\n",
      "\u001b[36mFile \u001b[39m\u001b[32mc:\\Users\\andre\\miniconda3\\envs\\gcp_read_write_testing\\Lib\\site-packages\\google\\cloud\\storage\\_media\\requests\\upload.py:157\u001b[39m, in \u001b[36mMultipartUpload.transmit.<locals>.retriable_request\u001b[39m\u001b[34m()\u001b[39m\n\u001b[32m    153\u001b[39m result = transport.request(\n\u001b[32m    154\u001b[39m     method, url, data=payload, headers=headers, timeout=timeout\n\u001b[32m    155\u001b[39m )\n\u001b[32m--> \u001b[39m\u001b[32m157\u001b[39m \u001b[38;5;28mself\u001b[39m._process_response(result)\n\u001b[32m    159\u001b[39m \u001b[38;5;28;01mreturn\u001b[39;00m result\n",
      "\u001b[36mFile \u001b[39m\u001b[32mc:\\Users\\andre\\miniconda3\\envs\\gcp_read_write_testing\\Lib\\site-packages\\google\\cloud\\storage\\_media\\_upload.py:135\u001b[39m, in \u001b[36mUploadBase._process_response\u001b[39m\u001b[34m(self, response)\u001b[39m\n\u001b[32m    134\u001b[39m \u001b[38;5;28mself\u001b[39m._finished = \u001b[38;5;28;01mTrue\u001b[39;00m\n\u001b[32m--> \u001b[39m\u001b[32m135\u001b[39m _helpers.require_status_code(response, (http.client.OK,), \u001b[38;5;28mself\u001b[39m._get_status_code)\n",
      "\u001b[36mFile \u001b[39m\u001b[32mc:\\Users\\andre\\miniconda3\\envs\\gcp_read_write_testing\\Lib\\site-packages\\google\\cloud\\storage\\_media\\_helpers.py:105\u001b[39m, in \u001b[36mrequire_status_code\u001b[39m\u001b[34m(response, status_codes, get_status_code, callback)\u001b[39m\n\u001b[32m    104\u001b[39m         callback()\n\u001b[32m--> \u001b[39m\u001b[32m105\u001b[39m     \u001b[38;5;28;01mraise\u001b[39;00m InvalidResponse(\n\u001b[32m    106\u001b[39m         response,\n\u001b[32m    107\u001b[39m         \u001b[33m\"\u001b[39m\u001b[33mRequest failed with status code\u001b[39m\u001b[33m\"\u001b[39m,\n\u001b[32m    108\u001b[39m         status_code,\n\u001b[32m    109\u001b[39m         \u001b[33m\"\u001b[39m\u001b[33mExpected one of\u001b[39m\u001b[33m\"\u001b[39m,\n\u001b[32m    110\u001b[39m         *status_codes\n\u001b[32m    111\u001b[39m     )\n\u001b[32m    112\u001b[39m \u001b[38;5;28;01mreturn\u001b[39;00m status_code\n",
      "\u001b[31mInvalidResponse\u001b[39m: ('Request failed with status code', 403, 'Expected one of', <HTTPStatus.OK: 200>)",
      "\nDuring handling of the above exception, another exception occurred:\n",
      "\u001b[31mForbidden\u001b[39m                                 Traceback (most recent call last)",
      "\u001b[36mCell\u001b[39m\u001b[36m \u001b[39m\u001b[32mIn[14]\u001b[39m\u001b[32m, line 1\u001b[39m\n\u001b[32m----> \u001b[39m\u001b[32m1\u001b[39m gcp_write_csv(gcp_client_obj = client,\n\u001b[32m      2\u001b[39m               dataframe = stineman_siblings,\n\u001b[32m      3\u001b[39m               bucket_name = \u001b[33m'\u001b[39m\u001b[33mgcp_read_write_testing\u001b[39m\u001b[33m'\u001b[39m,\n\u001b[32m      4\u001b[39m               csv_file_name = \u001b[33m'\u001b[39m\u001b[33mstineman_siblings_gmail.csv\u001b[39m\u001b[33m'\u001b[39m)\n",
      "\u001b[36mFile \u001b[39m\u001b[32mc:\\Users\\andre\\gamebeast\\projects\\gcp_read_write_testing\\src\\utils.py:28\u001b[39m, in \u001b[36mgcp_write_csv\u001b[39m\u001b[34m(gcp_client_obj, dataframe, bucket_name, csv_file_name)\u001b[39m\n\u001b[32m     26\u001b[39m csv_buffer = StringIO()\n\u001b[32m     27\u001b[39m dataframe.to_csv(csv_buffer, index = \u001b[38;5;28;01mFalse\u001b[39;00m)\n\u001b[32m---> \u001b[39m\u001b[32m28\u001b[39m file.upload_from_string(csv_buffer.getvalue(), content_type = \u001b[33m'\u001b[39m\u001b[33mtext/csv\u001b[39m\u001b[33m'\u001b[39m)\n\u001b[32m     29\u001b[39m \u001b[38;5;28mprint\u001b[39m(\u001b[33m'\u001b[39m\u001b[33mWrite complete.\u001b[39m\u001b[33m'\u001b[39m)\n",
      "\u001b[36mFile \u001b[39m\u001b[32mc:\\Users\\andre\\miniconda3\\envs\\gcp_read_write_testing\\Lib\\site-packages\\google\\cloud\\storage\\blob.py:3050\u001b[39m, in \u001b[36mBlob.upload_from_string\u001b[39m\u001b[34m(self, data, content_type, client, predefined_acl, if_generation_match, if_generation_not_match, if_metageneration_match, if_metageneration_not_match, timeout, checksum, retry)\u001b[39m\n\u001b[32m   3048\u001b[39m data = _to_bytes(data, encoding=\u001b[33m\"\u001b[39m\u001b[33mutf-8\u001b[39m\u001b[33m\"\u001b[39m)\n\u001b[32m   3049\u001b[39m string_buffer = BytesIO(data)\n\u001b[32m-> \u001b[39m\u001b[32m3050\u001b[39m \u001b[38;5;28mself\u001b[39m.upload_from_file(\n\u001b[32m   3051\u001b[39m     file_obj=string_buffer,\n\u001b[32m   3052\u001b[39m     size=\u001b[38;5;28mlen\u001b[39m(data),\n\u001b[32m   3053\u001b[39m     content_type=content_type,\n\u001b[32m   3054\u001b[39m     client=client,\n\u001b[32m   3055\u001b[39m     predefined_acl=predefined_acl,\n\u001b[32m   3056\u001b[39m     if_generation_match=if_generation_match,\n\u001b[32m   3057\u001b[39m     if_generation_not_match=if_generation_not_match,\n\u001b[32m   3058\u001b[39m     if_metageneration_match=if_metageneration_match,\n\u001b[32m   3059\u001b[39m     if_metageneration_not_match=if_metageneration_not_match,\n\u001b[32m   3060\u001b[39m     timeout=timeout,\n\u001b[32m   3061\u001b[39m     checksum=checksum,\n\u001b[32m   3062\u001b[39m     retry=retry,\n\u001b[32m   3063\u001b[39m )\n",
      "\u001b[36mFile \u001b[39m\u001b[32mc:\\Users\\andre\\miniconda3\\envs\\gcp_read_write_testing\\Lib\\site-packages\\google\\cloud\\storage\\blob.py:2784\u001b[39m, in \u001b[36mBlob.upload_from_file\u001b[39m\u001b[34m(self, file_obj, rewind, size, content_type, client, predefined_acl, if_generation_match, if_generation_not_match, if_metageneration_match, if_metageneration_not_match, timeout, checksum, retry)\u001b[39m\n\u001b[32m   2673\u001b[39m \u001b[38;5;250m\u001b[39m\u001b[33;03m\"\"\"Upload the contents of this blob from a file-like object.\u001b[39;00m\n\u001b[32m   2674\u001b[39m \n\u001b[32m   2675\u001b[39m \u001b[33;03mThe content type of the upload will be determined in order\u001b[39;00m\n\u001b[32m   (...)\u001b[39m\u001b[32m   2781\u001b[39m \u001b[33;03m         if the upload response returns an error status.\u001b[39;00m\n\u001b[32m   2782\u001b[39m \u001b[33;03m\"\"\"\u001b[39;00m\n\u001b[32m   2783\u001b[39m \u001b[38;5;28;01mwith\u001b[39;00m create_trace_span(name=\u001b[33m\"\u001b[39m\u001b[33mStorage.Blob.uploadFromFile\u001b[39m\u001b[33m\"\u001b[39m):\n\u001b[32m-> \u001b[39m\u001b[32m2784\u001b[39m     \u001b[38;5;28mself\u001b[39m._prep_and_do_upload(\n\u001b[32m   2785\u001b[39m         file_obj,\n\u001b[32m   2786\u001b[39m         rewind=rewind,\n\u001b[32m   2787\u001b[39m         size=size,\n\u001b[32m   2788\u001b[39m         content_type=content_type,\n\u001b[32m   2789\u001b[39m         client=client,\n\u001b[32m   2790\u001b[39m         predefined_acl=predefined_acl,\n\u001b[32m   2791\u001b[39m         if_generation_match=if_generation_match,\n\u001b[32m   2792\u001b[39m         if_generation_not_match=if_generation_not_match,\n\u001b[32m   2793\u001b[39m         if_metageneration_match=if_metageneration_match,\n\u001b[32m   2794\u001b[39m         if_metageneration_not_match=if_metageneration_not_match,\n\u001b[32m   2795\u001b[39m         timeout=timeout,\n\u001b[32m   2796\u001b[39m         checksum=checksum,\n\u001b[32m   2797\u001b[39m         retry=retry,\n\u001b[32m   2798\u001b[39m     )\n",
      "\u001b[36mFile \u001b[39m\u001b[32mc:\\Users\\andre\\miniconda3\\envs\\gcp_read_write_testing\\Lib\\site-packages\\google\\cloud\\storage\\blob.py:2655\u001b[39m, in \u001b[36mBlob._prep_and_do_upload\u001b[39m\u001b[34m(self, file_obj, rewind, size, content_type, client, predefined_acl, if_generation_match, if_generation_not_match, if_metageneration_match, if_metageneration_not_match, timeout, checksum, retry, command)\u001b[39m\n\u001b[32m   2653\u001b[39m     \u001b[38;5;28mself\u001b[39m._set_properties(created_json)\n\u001b[32m   2654\u001b[39m \u001b[38;5;28;01mexcept\u001b[39;00m InvalidResponse \u001b[38;5;28;01mas\u001b[39;00m exc:\n\u001b[32m-> \u001b[39m\u001b[32m2655\u001b[39m     _raise_from_invalid_response(exc)\n",
      "\u001b[36mFile \u001b[39m\u001b[32mc:\\Users\\andre\\miniconda3\\envs\\gcp_read_write_testing\\Lib\\site-packages\\google\\cloud\\storage\\blob.py:4826\u001b[39m, in \u001b[36m_raise_from_invalid_response\u001b[39m\u001b[34m(error)\u001b[39m\n\u001b[32m   4822\u001b[39m     error_message = \u001b[38;5;28mstr\u001b[39m(error)\n\u001b[32m   4824\u001b[39m message = \u001b[33mf\u001b[39m\u001b[33m\"\u001b[39m\u001b[38;5;132;01m{\u001b[39;00mresponse.request.method\u001b[38;5;132;01m}\u001b[39;00m\u001b[33m \u001b[39m\u001b[38;5;132;01m{\u001b[39;00mresponse.request.url\u001b[38;5;132;01m}\u001b[39;00m\u001b[33m: \u001b[39m\u001b[38;5;132;01m{\u001b[39;00merror_message\u001b[38;5;132;01m}\u001b[39;00m\u001b[33m\"\u001b[39m\n\u001b[32m-> \u001b[39m\u001b[32m4826\u001b[39m \u001b[38;5;28;01mraise\u001b[39;00m exceptions.from_http_status(response.status_code, message, response=response)\n",
      "\u001b[31mForbidden\u001b[39m: 403 POST https://storage.googleapis.com/upload/storage/v1/b/gcp_read_write_testing/o?uploadType=multipart: {\n  \"error\": {\n    \"code\": 403,\n    \"message\": \"andrewtstineman@gmail.com does not have storage.objects.create access to the Google Cloud Storage object. Permission 'storage.objects.create' denied on resource (or it may not exist).\",\n    \"errors\": [\n      {\n        \"message\": \"andrewtstineman@gmail.com does not have storage.objects.create access to the Google Cloud Storage object. Permission 'storage.objects.create' denied on resource (or it may not exist).\",\n        \"domain\": \"global\",\n        \"reason\": \"forbidden\"\n      }\n    ]\n  }\n}\n: ('Request failed with status code', 403, 'Expected one of', <HTTPStatus.OK: 200>)"
     ]
    }
   ],
   "source": [
    "gcp_write_csv(gcp_client_obj = client,\n",
    "              dataframe = stineman_siblings,\n",
    "              bucket_name = 'gcp_read_write_testing',\n",
    "              csv_file_name = 'stineman_siblings_gmail.csv')"
   ]
  },
  {
   "cell_type": "markdown",
   "metadata": {},
   "source": [
    "Error! 403 GET: andrewtstineman@gmail.com does not have storage.objects.create access to the Google Cloud Storage object.\n",
    "\n",
    "Response:\n",
    "\n",
    "1. Navigated to the Permissions settings for the gcp_read_write_testing bucket, then added access for andrewtstineman@gmail.com with the \"Storage Object Creator\" role\n",
    "2. Run ```gcloud auth application-default revoke``` to remove andrewtstineman@gmail.com credentials\n",
    "3. Run ```gcloud auth application-default login``` to again attempt to authenticate as andrewtstineman@gmail.com"
   ]
  },
  {
   "cell_type": "code",
   "execution_count": 15,
   "metadata": {},
   "outputs": [],
   "source": [
    "client = storage.Client()"
   ]
  },
  {
   "cell_type": "markdown",
   "metadata": {},
   "source": [
    "Re-initializing the client"
   ]
  },
  {
   "cell_type": "code",
   "execution_count": 16,
   "metadata": {},
   "outputs": [
    {
     "name": "stdout",
     "output_type": "stream",
     "text": [
      "Write complete.\n"
     ]
    }
   ],
   "source": [
    "gcp_write_csv(gcp_client_obj = client,\n",
    "              dataframe = stineman_siblings,\n",
    "              bucket_name = 'gcp_read_write_testing',\n",
    "              csv_file_name = 'stineman_siblings_gmail.csv')"
   ]
  },
  {
   "cell_type": "markdown",
   "metadata": {},
   "source": [
    "### Overwrite Test"
   ]
  },
  {
   "cell_type": "code",
   "execution_count": 18,
   "metadata": {},
   "outputs": [
    {
     "ename": "Forbidden",
     "evalue": "403 POST https://storage.googleapis.com/upload/storage/v1/b/gcp_read_write_testing/o?uploadType=multipart: {\n  \"error\": {\n    \"code\": 403,\n    \"message\": \"andrewtstineman@gmail.com does not have storage.objects.delete access to the Google Cloud Storage object.\",\n    \"errors\": [\n      {\n        \"message\": \"andrewtstineman@gmail.com does not have storage.objects.delete access to the Google Cloud Storage object.\",\n        \"domain\": \"global\",\n        \"reason\": \"forbidden\"\n      }\n    ]\n  }\n}\n: ('Request failed with status code', 403, 'Expected one of', <HTTPStatus.OK: 200>)",
     "output_type": "error",
     "traceback": [
      "\u001b[31m---------------------------------------------------------------------------\u001b[39m",
      "\u001b[31mInvalidResponse\u001b[39m                           Traceback (most recent call last)",
      "\u001b[36mFile \u001b[39m\u001b[32mc:\\Users\\andre\\miniconda3\\envs\\gcp_read_write_testing\\Lib\\site-packages\\google\\cloud\\storage\\blob.py:2638\u001b[39m, in \u001b[36mBlob._prep_and_do_upload\u001b[39m\u001b[34m(self, file_obj, rewind, size, content_type, client, predefined_acl, if_generation_match, if_generation_not_match, if_metageneration_match, if_metageneration_not_match, timeout, checksum, retry, command)\u001b[39m\n\u001b[32m   2637\u001b[39m \u001b[38;5;28;01mtry\u001b[39;00m:\n\u001b[32m-> \u001b[39m\u001b[32m2638\u001b[39m     created_json = \u001b[38;5;28mself\u001b[39m._do_upload(\n\u001b[32m   2639\u001b[39m         client,\n\u001b[32m   2640\u001b[39m         file_obj,\n\u001b[32m   2641\u001b[39m         content_type,\n\u001b[32m   2642\u001b[39m         size,\n\u001b[32m   2643\u001b[39m         predefined_acl,\n\u001b[32m   2644\u001b[39m         if_generation_match,\n\u001b[32m   2645\u001b[39m         if_generation_not_match,\n\u001b[32m   2646\u001b[39m         if_metageneration_match,\n\u001b[32m   2647\u001b[39m         if_metageneration_not_match,\n\u001b[32m   2648\u001b[39m         timeout=timeout,\n\u001b[32m   2649\u001b[39m         checksum=checksum,\n\u001b[32m   2650\u001b[39m         retry=retry,\n\u001b[32m   2651\u001b[39m         command=command,\n\u001b[32m   2652\u001b[39m     )\n\u001b[32m   2653\u001b[39m     \u001b[38;5;28mself\u001b[39m._set_properties(created_json)\n",
      "\u001b[36mFile \u001b[39m\u001b[32mc:\\Users\\andre\\miniconda3\\envs\\gcp_read_write_testing\\Lib\\site-packages\\google\\cloud\\storage\\blob.py:2467\u001b[39m, in \u001b[36mBlob._do_upload\u001b[39m\u001b[34m(self, client, stream, content_type, size, predefined_acl, if_generation_match, if_generation_not_match, if_metageneration_match, if_metageneration_not_match, timeout, checksum, retry, command)\u001b[39m\n\u001b[32m   2466\u001b[39m \u001b[38;5;28;01mif\u001b[39;00m size \u001b[38;5;129;01mis\u001b[39;00m \u001b[38;5;129;01mnot\u001b[39;00m \u001b[38;5;28;01mNone\u001b[39;00m \u001b[38;5;129;01mand\u001b[39;00m size <= _MAX_MULTIPART_SIZE:\n\u001b[32m-> \u001b[39m\u001b[32m2467\u001b[39m     response = \u001b[38;5;28mself\u001b[39m._do_multipart_upload(\n\u001b[32m   2468\u001b[39m         client,\n\u001b[32m   2469\u001b[39m         stream,\n\u001b[32m   2470\u001b[39m         content_type,\n\u001b[32m   2471\u001b[39m         size,\n\u001b[32m   2472\u001b[39m         predefined_acl,\n\u001b[32m   2473\u001b[39m         if_generation_match,\n\u001b[32m   2474\u001b[39m         if_generation_not_match,\n\u001b[32m   2475\u001b[39m         if_metageneration_match,\n\u001b[32m   2476\u001b[39m         if_metageneration_not_match,\n\u001b[32m   2477\u001b[39m         timeout=timeout,\n\u001b[32m   2478\u001b[39m         checksum=checksum,\n\u001b[32m   2479\u001b[39m         retry=retry,\n\u001b[32m   2480\u001b[39m         command=command,\n\u001b[32m   2481\u001b[39m     )\n\u001b[32m   2482\u001b[39m \u001b[38;5;28;01melse\u001b[39;00m:\n",
      "\u001b[36mFile \u001b[39m\u001b[32mc:\\Users\\andre\\miniconda3\\envs\\gcp_read_write_testing\\Lib\\site-packages\\google\\cloud\\storage\\blob.py:2006\u001b[39m, in \u001b[36mBlob._do_multipart_upload\u001b[39m\u001b[34m(self, client, stream, content_type, size, predefined_acl, if_generation_match, if_generation_not_match, if_metageneration_match, if_metageneration_not_match, timeout, checksum, retry, command)\u001b[39m\n\u001b[32m   2000\u001b[39m \u001b[38;5;28;01mwith\u001b[39;00m create_trace_span(\n\u001b[32m   2001\u001b[39m     name=\u001b[33m\"\u001b[39m\u001b[33mStorage.MultipartUpload/transmit\u001b[39m\u001b[33m\"\u001b[39m,\n\u001b[32m   2002\u001b[39m     attributes=extra_attributes,\n\u001b[32m   2003\u001b[39m     client=client,\n\u001b[32m   2004\u001b[39m     api_request=args,\n\u001b[32m   2005\u001b[39m ):\n\u001b[32m-> \u001b[39m\u001b[32m2006\u001b[39m     response = upload.transmit(\n\u001b[32m   2007\u001b[39m         transport, data, object_metadata, content_type, timeout=timeout\n\u001b[32m   2008\u001b[39m     )\n\u001b[32m   2010\u001b[39m     \u001b[38;5;28;01mreturn\u001b[39;00m response\n",
      "\u001b[36mFile \u001b[39m\u001b[32mc:\\Users\\andre\\miniconda3\\envs\\gcp_read_write_testing\\Lib\\site-packages\\google\\cloud\\storage\\_media\\requests\\upload.py:161\u001b[39m, in \u001b[36mMultipartUpload.transmit\u001b[39m\u001b[34m(self, transport, data, metadata, content_type, timeout)\u001b[39m\n\u001b[32m    159\u001b[39m     \u001b[38;5;28;01mreturn\u001b[39;00m result\n\u001b[32m--> \u001b[39m\u001b[32m161\u001b[39m \u001b[38;5;28;01mreturn\u001b[39;00m _request_helpers.wait_and_retry(retriable_request, \u001b[38;5;28mself\u001b[39m._retry_strategy)\n",
      "\u001b[36mFile \u001b[39m\u001b[32mc:\\Users\\andre\\miniconda3\\envs\\gcp_read_write_testing\\Lib\\site-packages\\google\\cloud\\storage\\_media\\requests\\_request_helpers.py:107\u001b[39m, in \u001b[36mwait_and_retry\u001b[39m\u001b[34m(func, retry_strategy)\u001b[39m\n\u001b[32m    106\u001b[39m     func = retry_strategy(func)\n\u001b[32m--> \u001b[39m\u001b[32m107\u001b[39m \u001b[38;5;28;01mreturn\u001b[39;00m func()\n",
      "\u001b[36mFile \u001b[39m\u001b[32mc:\\Users\\andre\\miniconda3\\envs\\gcp_read_write_testing\\Lib\\site-packages\\google\\api_core\\retry\\retry_unary.py:293\u001b[39m, in \u001b[36mRetry.__call__.<locals>.retry_wrapped_func\u001b[39m\u001b[34m(*args, **kwargs)\u001b[39m\n\u001b[32m    290\u001b[39m sleep_generator = exponential_sleep_generator(\n\u001b[32m    291\u001b[39m     \u001b[38;5;28mself\u001b[39m._initial, \u001b[38;5;28mself\u001b[39m._maximum, multiplier=\u001b[38;5;28mself\u001b[39m._multiplier\n\u001b[32m    292\u001b[39m )\n\u001b[32m--> \u001b[39m\u001b[32m293\u001b[39m \u001b[38;5;28;01mreturn\u001b[39;00m retry_target(\n\u001b[32m    294\u001b[39m     target,\n\u001b[32m    295\u001b[39m     \u001b[38;5;28mself\u001b[39m._predicate,\n\u001b[32m    296\u001b[39m     sleep_generator,\n\u001b[32m    297\u001b[39m     timeout=\u001b[38;5;28mself\u001b[39m._timeout,\n\u001b[32m    298\u001b[39m     on_error=on_error,\n\u001b[32m    299\u001b[39m )\n",
      "\u001b[36mFile \u001b[39m\u001b[32mc:\\Users\\andre\\miniconda3\\envs\\gcp_read_write_testing\\Lib\\site-packages\\google\\api_core\\retry\\retry_unary.py:153\u001b[39m, in \u001b[36mretry_target\u001b[39m\u001b[34m(target, predicate, sleep_generator, timeout, on_error, exception_factory, **kwargs)\u001b[39m\n\u001b[32m    151\u001b[39m \u001b[38;5;28;01mexcept\u001b[39;00m \u001b[38;5;167;01mException\u001b[39;00m \u001b[38;5;28;01mas\u001b[39;00m exc:\n\u001b[32m    152\u001b[39m     \u001b[38;5;66;03m# defer to shared logic for handling errors\u001b[39;00m\n\u001b[32m--> \u001b[39m\u001b[32m153\u001b[39m     _retry_error_helper(\n\u001b[32m    154\u001b[39m         exc,\n\u001b[32m    155\u001b[39m         deadline,\n\u001b[32m    156\u001b[39m         sleep,\n\u001b[32m    157\u001b[39m         error_list,\n\u001b[32m    158\u001b[39m         predicate,\n\u001b[32m    159\u001b[39m         on_error,\n\u001b[32m    160\u001b[39m         exception_factory,\n\u001b[32m    161\u001b[39m         timeout,\n\u001b[32m    162\u001b[39m     )\n\u001b[32m    163\u001b[39m     \u001b[38;5;66;03m# if exception not raised, sleep before next attempt\u001b[39;00m\n",
      "\u001b[36mFile \u001b[39m\u001b[32mc:\\Users\\andre\\miniconda3\\envs\\gcp_read_write_testing\\Lib\\site-packages\\google\\api_core\\retry\\retry_base.py:212\u001b[39m, in \u001b[36m_retry_error_helper\u001b[39m\u001b[34m(exc, deadline, next_sleep, error_list, predicate_fn, on_error_fn, exc_factory_fn, original_timeout)\u001b[39m\n\u001b[32m    207\u001b[39m     final_exc, source_exc = exc_factory_fn(\n\u001b[32m    208\u001b[39m         error_list,\n\u001b[32m    209\u001b[39m         RetryFailureReason.NON_RETRYABLE_ERROR,\n\u001b[32m    210\u001b[39m         original_timeout,\n\u001b[32m    211\u001b[39m     )\n\u001b[32m--> \u001b[39m\u001b[32m212\u001b[39m     \u001b[38;5;28;01mraise\u001b[39;00m final_exc \u001b[38;5;28;01mfrom\u001b[39;00m\u001b[38;5;250m \u001b[39m\u001b[34;01msource_exc\u001b[39;00m\n\u001b[32m    213\u001b[39m \u001b[38;5;28;01mif\u001b[39;00m on_error_fn \u001b[38;5;129;01mis\u001b[39;00m \u001b[38;5;129;01mnot\u001b[39;00m \u001b[38;5;28;01mNone\u001b[39;00m:\n",
      "\u001b[36mFile \u001b[39m\u001b[32mc:\\Users\\andre\\miniconda3\\envs\\gcp_read_write_testing\\Lib\\site-packages\\google\\api_core\\retry\\retry_unary.py:144\u001b[39m, in \u001b[36mretry_target\u001b[39m\u001b[34m(target, predicate, sleep_generator, timeout, on_error, exception_factory, **kwargs)\u001b[39m\n\u001b[32m    143\u001b[39m \u001b[38;5;28;01mtry\u001b[39;00m:\n\u001b[32m--> \u001b[39m\u001b[32m144\u001b[39m     result = target()\n\u001b[32m    145\u001b[39m     \u001b[38;5;28;01mif\u001b[39;00m inspect.isawaitable(result):\n",
      "\u001b[36mFile \u001b[39m\u001b[32mc:\\Users\\andre\\miniconda3\\envs\\gcp_read_write_testing\\Lib\\site-packages\\google\\cloud\\storage\\_media\\requests\\upload.py:157\u001b[39m, in \u001b[36mMultipartUpload.transmit.<locals>.retriable_request\u001b[39m\u001b[34m()\u001b[39m\n\u001b[32m    153\u001b[39m result = transport.request(\n\u001b[32m    154\u001b[39m     method, url, data=payload, headers=headers, timeout=timeout\n\u001b[32m    155\u001b[39m )\n\u001b[32m--> \u001b[39m\u001b[32m157\u001b[39m \u001b[38;5;28mself\u001b[39m._process_response(result)\n\u001b[32m    159\u001b[39m \u001b[38;5;28;01mreturn\u001b[39;00m result\n",
      "\u001b[36mFile \u001b[39m\u001b[32mc:\\Users\\andre\\miniconda3\\envs\\gcp_read_write_testing\\Lib\\site-packages\\google\\cloud\\storage\\_media\\_upload.py:135\u001b[39m, in \u001b[36mUploadBase._process_response\u001b[39m\u001b[34m(self, response)\u001b[39m\n\u001b[32m    134\u001b[39m \u001b[38;5;28mself\u001b[39m._finished = \u001b[38;5;28;01mTrue\u001b[39;00m\n\u001b[32m--> \u001b[39m\u001b[32m135\u001b[39m _helpers.require_status_code(response, (http.client.OK,), \u001b[38;5;28mself\u001b[39m._get_status_code)\n",
      "\u001b[36mFile \u001b[39m\u001b[32mc:\\Users\\andre\\miniconda3\\envs\\gcp_read_write_testing\\Lib\\site-packages\\google\\cloud\\storage\\_media\\_helpers.py:105\u001b[39m, in \u001b[36mrequire_status_code\u001b[39m\u001b[34m(response, status_codes, get_status_code, callback)\u001b[39m\n\u001b[32m    104\u001b[39m         callback()\n\u001b[32m--> \u001b[39m\u001b[32m105\u001b[39m     \u001b[38;5;28;01mraise\u001b[39;00m InvalidResponse(\n\u001b[32m    106\u001b[39m         response,\n\u001b[32m    107\u001b[39m         \u001b[33m\"\u001b[39m\u001b[33mRequest failed with status code\u001b[39m\u001b[33m\"\u001b[39m,\n\u001b[32m    108\u001b[39m         status_code,\n\u001b[32m    109\u001b[39m         \u001b[33m\"\u001b[39m\u001b[33mExpected one of\u001b[39m\u001b[33m\"\u001b[39m,\n\u001b[32m    110\u001b[39m         *status_codes\n\u001b[32m    111\u001b[39m     )\n\u001b[32m    112\u001b[39m \u001b[38;5;28;01mreturn\u001b[39;00m status_code\n",
      "\u001b[31mInvalidResponse\u001b[39m: ('Request failed with status code', 403, 'Expected one of', <HTTPStatus.OK: 200>)",
      "\nDuring handling of the above exception, another exception occurred:\n",
      "\u001b[31mForbidden\u001b[39m                                 Traceback (most recent call last)",
      "\u001b[36mCell\u001b[39m\u001b[36m \u001b[39m\u001b[32mIn[18]\u001b[39m\u001b[32m, line 1\u001b[39m\n\u001b[32m----> \u001b[39m\u001b[32m1\u001b[39m gcp_write_csv(gcp_client_obj = client,\n\u001b[32m      2\u001b[39m               dataframe = stineman_siblings,\n\u001b[32m      3\u001b[39m               bucket_name = \u001b[33m'\u001b[39m\u001b[33mgcp_read_write_testing\u001b[39m\u001b[33m'\u001b[39m,\n\u001b[32m      4\u001b[39m               csv_file_name = \u001b[33m'\u001b[39m\u001b[33mstineman_siblings_gmail.csv\u001b[39m\u001b[33m'\u001b[39m)\n",
      "\u001b[36mFile \u001b[39m\u001b[32mc:\\Users\\andre\\gamebeast\\projects\\gcp_read_write_testing\\src\\utils.py:28\u001b[39m, in \u001b[36mgcp_write_csv\u001b[39m\u001b[34m(gcp_client_obj, dataframe, bucket_name, csv_file_name)\u001b[39m\n\u001b[32m     26\u001b[39m csv_buffer = StringIO()\n\u001b[32m     27\u001b[39m dataframe.to_csv(csv_buffer, index = \u001b[38;5;28;01mFalse\u001b[39;00m)\n\u001b[32m---> \u001b[39m\u001b[32m28\u001b[39m file.upload_from_string(csv_buffer.getvalue(), content_type = \u001b[33m'\u001b[39m\u001b[33mtext/csv\u001b[39m\u001b[33m'\u001b[39m)\n\u001b[32m     29\u001b[39m \u001b[38;5;28mprint\u001b[39m(\u001b[33m'\u001b[39m\u001b[33mWrite complete.\u001b[39m\u001b[33m'\u001b[39m)\n",
      "\u001b[36mFile \u001b[39m\u001b[32mc:\\Users\\andre\\miniconda3\\envs\\gcp_read_write_testing\\Lib\\site-packages\\google\\cloud\\storage\\blob.py:3050\u001b[39m, in \u001b[36mBlob.upload_from_string\u001b[39m\u001b[34m(self, data, content_type, client, predefined_acl, if_generation_match, if_generation_not_match, if_metageneration_match, if_metageneration_not_match, timeout, checksum, retry)\u001b[39m\n\u001b[32m   3048\u001b[39m data = _to_bytes(data, encoding=\u001b[33m\"\u001b[39m\u001b[33mutf-8\u001b[39m\u001b[33m\"\u001b[39m)\n\u001b[32m   3049\u001b[39m string_buffer = BytesIO(data)\n\u001b[32m-> \u001b[39m\u001b[32m3050\u001b[39m \u001b[38;5;28mself\u001b[39m.upload_from_file(\n\u001b[32m   3051\u001b[39m     file_obj=string_buffer,\n\u001b[32m   3052\u001b[39m     size=\u001b[38;5;28mlen\u001b[39m(data),\n\u001b[32m   3053\u001b[39m     content_type=content_type,\n\u001b[32m   3054\u001b[39m     client=client,\n\u001b[32m   3055\u001b[39m     predefined_acl=predefined_acl,\n\u001b[32m   3056\u001b[39m     if_generation_match=if_generation_match,\n\u001b[32m   3057\u001b[39m     if_generation_not_match=if_generation_not_match,\n\u001b[32m   3058\u001b[39m     if_metageneration_match=if_metageneration_match,\n\u001b[32m   3059\u001b[39m     if_metageneration_not_match=if_metageneration_not_match,\n\u001b[32m   3060\u001b[39m     timeout=timeout,\n\u001b[32m   3061\u001b[39m     checksum=checksum,\n\u001b[32m   3062\u001b[39m     retry=retry,\n\u001b[32m   3063\u001b[39m )\n",
      "\u001b[36mFile \u001b[39m\u001b[32mc:\\Users\\andre\\miniconda3\\envs\\gcp_read_write_testing\\Lib\\site-packages\\google\\cloud\\storage\\blob.py:2784\u001b[39m, in \u001b[36mBlob.upload_from_file\u001b[39m\u001b[34m(self, file_obj, rewind, size, content_type, client, predefined_acl, if_generation_match, if_generation_not_match, if_metageneration_match, if_metageneration_not_match, timeout, checksum, retry)\u001b[39m\n\u001b[32m   2673\u001b[39m \u001b[38;5;250m\u001b[39m\u001b[33;03m\"\"\"Upload the contents of this blob from a file-like object.\u001b[39;00m\n\u001b[32m   2674\u001b[39m \n\u001b[32m   2675\u001b[39m \u001b[33;03mThe content type of the upload will be determined in order\u001b[39;00m\n\u001b[32m   (...)\u001b[39m\u001b[32m   2781\u001b[39m \u001b[33;03m         if the upload response returns an error status.\u001b[39;00m\n\u001b[32m   2782\u001b[39m \u001b[33;03m\"\"\"\u001b[39;00m\n\u001b[32m   2783\u001b[39m \u001b[38;5;28;01mwith\u001b[39;00m create_trace_span(name=\u001b[33m\"\u001b[39m\u001b[33mStorage.Blob.uploadFromFile\u001b[39m\u001b[33m\"\u001b[39m):\n\u001b[32m-> \u001b[39m\u001b[32m2784\u001b[39m     \u001b[38;5;28mself\u001b[39m._prep_and_do_upload(\n\u001b[32m   2785\u001b[39m         file_obj,\n\u001b[32m   2786\u001b[39m         rewind=rewind,\n\u001b[32m   2787\u001b[39m         size=size,\n\u001b[32m   2788\u001b[39m         content_type=content_type,\n\u001b[32m   2789\u001b[39m         client=client,\n\u001b[32m   2790\u001b[39m         predefined_acl=predefined_acl,\n\u001b[32m   2791\u001b[39m         if_generation_match=if_generation_match,\n\u001b[32m   2792\u001b[39m         if_generation_not_match=if_generation_not_match,\n\u001b[32m   2793\u001b[39m         if_metageneration_match=if_metageneration_match,\n\u001b[32m   2794\u001b[39m         if_metageneration_not_match=if_metageneration_not_match,\n\u001b[32m   2795\u001b[39m         timeout=timeout,\n\u001b[32m   2796\u001b[39m         checksum=checksum,\n\u001b[32m   2797\u001b[39m         retry=retry,\n\u001b[32m   2798\u001b[39m     )\n",
      "\u001b[36mFile \u001b[39m\u001b[32mc:\\Users\\andre\\miniconda3\\envs\\gcp_read_write_testing\\Lib\\site-packages\\google\\cloud\\storage\\blob.py:2655\u001b[39m, in \u001b[36mBlob._prep_and_do_upload\u001b[39m\u001b[34m(self, file_obj, rewind, size, content_type, client, predefined_acl, if_generation_match, if_generation_not_match, if_metageneration_match, if_metageneration_not_match, timeout, checksum, retry, command)\u001b[39m\n\u001b[32m   2653\u001b[39m     \u001b[38;5;28mself\u001b[39m._set_properties(created_json)\n\u001b[32m   2654\u001b[39m \u001b[38;5;28;01mexcept\u001b[39;00m InvalidResponse \u001b[38;5;28;01mas\u001b[39;00m exc:\n\u001b[32m-> \u001b[39m\u001b[32m2655\u001b[39m     _raise_from_invalid_response(exc)\n",
      "\u001b[36mFile \u001b[39m\u001b[32mc:\\Users\\andre\\miniconda3\\envs\\gcp_read_write_testing\\Lib\\site-packages\\google\\cloud\\storage\\blob.py:4826\u001b[39m, in \u001b[36m_raise_from_invalid_response\u001b[39m\u001b[34m(error)\u001b[39m\n\u001b[32m   4822\u001b[39m     error_message = \u001b[38;5;28mstr\u001b[39m(error)\n\u001b[32m   4824\u001b[39m message = \u001b[33mf\u001b[39m\u001b[33m\"\u001b[39m\u001b[38;5;132;01m{\u001b[39;00mresponse.request.method\u001b[38;5;132;01m}\u001b[39;00m\u001b[33m \u001b[39m\u001b[38;5;132;01m{\u001b[39;00mresponse.request.url\u001b[38;5;132;01m}\u001b[39;00m\u001b[33m: \u001b[39m\u001b[38;5;132;01m{\u001b[39;00merror_message\u001b[38;5;132;01m}\u001b[39;00m\u001b[33m\"\u001b[39m\n\u001b[32m-> \u001b[39m\u001b[32m4826\u001b[39m \u001b[38;5;28;01mraise\u001b[39;00m exceptions.from_http_status(response.status_code, message, response=response)\n",
      "\u001b[31mForbidden\u001b[39m: 403 POST https://storage.googleapis.com/upload/storage/v1/b/gcp_read_write_testing/o?uploadType=multipart: {\n  \"error\": {\n    \"code\": 403,\n    \"message\": \"andrewtstineman@gmail.com does not have storage.objects.delete access to the Google Cloud Storage object.\",\n    \"errors\": [\n      {\n        \"message\": \"andrewtstineman@gmail.com does not have storage.objects.delete access to the Google Cloud Storage object.\",\n        \"domain\": \"global\",\n        \"reason\": \"forbidden\"\n      }\n    ]\n  }\n}\n: ('Request failed with status code', 403, 'Expected one of', <HTTPStatus.OK: 200>)"
     ]
    }
   ],
   "source": [
    "gcp_write_csv(gcp_client_obj = client,\n",
    "              dataframe = stineman_siblings,\n",
    "              bucket_name = 'gcp_read_write_testing',\n",
    "              csv_file_name = 'stineman_siblings_gmail.csv')"
   ]
  },
  {
   "cell_type": "markdown",
   "metadata": {},
   "source": [
    "Error! 403 POST: andrewtstineman@gmail.com does not have storage.objects.delete access to the Google Cloud Storage object.\n",
    "\n",
    "Are we really trying to delete a file?  In essence, yes - we have to delete the existing file and replace it with the new file.  The existing file is then logged as a noncurrent version, given that we have versioning enabled for our bucket."
   ]
  },
  {
   "cell_type": "markdown",
   "metadata": {},
   "source": [
    "Response:\n",
    "\n",
    "1. Navigated to the Permissions settings for the gcp_read_write_testing bucket, then added access for andrewtstineman@gmail.com with the \"Storage Object Admin\" role\n",
    "    1. There is no role which directly corresponds to the storage.objects.delete permission.  Storage Object Admin is the best way to give this delete permission.\n",
    "    2. Because Storage Object Admin is a superset (i.e., is inclusive of) the Storage Object Viewer and Storage Object Creator roles, I also removed the duplicative Viewer and Creator roles.\n",
    "2. Run ```gcloud auth application-default revoke``` to remove andrewtstineman@gmail.com credentials\n",
    "3. Run ```gcloud auth application-default login``` to again attempt to authenticate as andrewtstineman@gmail.com"
   ]
  },
  {
   "cell_type": "code",
   "execution_count": 19,
   "metadata": {},
   "outputs": [],
   "source": [
    "client = storage.Client()"
   ]
  },
  {
   "cell_type": "markdown",
   "metadata": {},
   "source": [
    "Re-initializing the client"
   ]
  },
  {
   "cell_type": "code",
   "execution_count": 21,
   "metadata": {},
   "outputs": [
    {
     "name": "stdout",
     "output_type": "stream",
     "text": [
      "Write complete.\n"
     ]
    }
   ],
   "source": [
    "gcp_write_csv(gcp_client_obj = client,\n",
    "              dataframe = stineman_siblings,\n",
    "              bucket_name = 'gcp_read_write_testing',\n",
    "              csv_file_name = 'stineman_siblings_gmail.csv')"
   ]
  },
  {
   "cell_type": "markdown",
   "metadata": {},
   "source": [
    "### Clean-up"
   ]
  },
  {
   "cell_type": "markdown",
   "metadata": {},
   "source": [
    "I don't want andrewtstineman@gmail.com to have lasting access to my bucket/Data Science project billing, so I have taken the following actions to remove andrewtstineman@gmail.com permissions:\n",
    "\n",
    "1. Navigated to the IAM service for the Data Science project, then removed the \"Service Usage Consumer\" role access for andrewtstineman@gmail.com\n",
    "2. Navigated to the Permissions settings for the gcp_read_write_testing bucket, then removed \"Storage Object Admin\" role access for andrewtstineman@gmail.com\n",
    "\n",
    "andrewtstineman@gmail.com no longer has access to any Data Science project services."
   ]
  },
  {
   "cell_type": "markdown",
   "metadata": {},
   "source": [
    "## Conclusion"
   ]
  },
  {
   "cell_type": "markdown",
   "metadata": {},
   "source": [
    "Experimented with reads/writes at https://console.cloud.google.com/storage/browser/gcp_read_write_testing?inv=1&invt=Ab0fGw&project=gamebeast-data-science\n",
    "\n",
    "Key findings:\n",
    "\n",
    "1. As owner of the project, I can do whatever I want in terms of reading/writing/overwriting\n",
    "2. For my personal gmail account, I need several specific permissions:\n",
    "    1. I need a project-level role (Service Usage Consumer) to use project resources\n",
    "    2. I need a bucket-level role (Storage Object Viewer) to read objects\n",
    "    3. I need a bucket-level role (Storage Object Creator) to write new objects\n",
    "    4. I need a bucket-level permission to allow for overwriting of existing objects (Storage Object Admin - this is inclusive of the Viewer and Creator roles, so those roles can be dropped as duplicates)\n",
    "\n",
    "Need to leverage the above research to inform the IAM scheme I use to share my projects within Gamebeast.  Perhaps a certain group gets read/write access, while I maintain read/write/overwrite access?"
   ]
  }
 ],
 "metadata": {
  "kernelspec": {
   "display_name": "gcp_read_write_testing",
   "language": "python",
   "name": "python3"
  },
  "language_info": {
   "codemirror_mode": {
    "name": "ipython",
    "version": 3
   },
   "file_extension": ".py",
   "mimetype": "text/x-python",
   "name": "python",
   "nbconvert_exporter": "python",
   "pygments_lexer": "ipython3",
   "version": "3.13.5"
  }
 },
 "nbformat": 4,
 "nbformat_minor": 2
}
